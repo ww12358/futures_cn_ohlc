{
 "cells": [
  {
   "cell_type": "code",
   "execution_count": 1,
   "metadata": {},
   "outputs": [
    {
     "ename": "ImportError",
     "evalue": "No module named request",
     "traceback": [
      "\u001b[0;31m---------------------------------------------------------------------------\u001b[0m",
      "\u001b[0;31mImportError\u001b[0m                               Traceback (most recent call last)",
      "\u001b[0;32m<ipython-input-1-489b0de8c543>\u001b[0m in \u001b[0;36m<module>\u001b[0;34m()\u001b[0m\n\u001b[1;32m      9\u001b[0m \u001b[0;32mimport\u001b[0m \u001b[0mos\u001b[0m\u001b[0;34m\u001b[0m\u001b[0m\n\u001b[1;32m     10\u001b[0m \u001b[0;31m# import re\u001b[0m\u001b[0;34m\u001b[0m\u001b[0;34m\u001b[0m\u001b[0m\n\u001b[0;32m---> 11\u001b[0;31m \u001b[0;32mfrom\u001b[0m \u001b[0murllib\u001b[0m\u001b[0;34m.\u001b[0m\u001b[0mrequest\u001b[0m \u001b[0;32mimport\u001b[0m \u001b[0murlopen\u001b[0m\u001b[0;34m\u001b[0m\u001b[0m\n\u001b[0m\u001b[1;32m     12\u001b[0m \u001b[0;31m#from bs4 import BeautifulSoup\u001b[0m\u001b[0;34m\u001b[0m\u001b[0;34m\u001b[0m\u001b[0m\n\u001b[1;32m     13\u001b[0m \u001b[0;32mimport\u001b[0m \u001b[0mjson\u001b[0m\u001b[0;34m\u001b[0m\u001b[0m\n",
      "\u001b[0;31mImportError\u001b[0m: No module named request"
     ],
     "output_type": "error"
    }
   ],
   "source": [
    "\n",
    "'''\n",
    "Created on Feb 28, 2017\n",
    " \n",
    " \n",
    "@author: hcq908\n",
    "'''\n",
    "import csv\n",
    "import os\n",
    "# import re\n",
    "from urllib.request import urlopen\n",
    "#from bs4 import BeautifulSoup\n",
    "import json \n",
    " \n",
    " \n",
    "if __name__ == '__main__':\n",
    "    iCntTable = 0;\n",
    "    html = urlopen(\"http://www.shfe.com.cn/data/instrument/ContractDailyTradeArgument20180608.dat\")\n",
    "    html = html.read().decode(\"utf8\").encode(\"utf8\")\n",
    "    print(type(html))\n",
    "    #加载成json的字典形式 \n",
    "    my_html = json.loads(html)\n",
    "    print(type(my_html))\n",
    "    #print(my_html[1:200])\n",
    "    print(my_html['ContractDailyTradeArgument'][0]['HDEGE_LONGMARGINRATIO'])\n",
    "    print(type(my_html['ContractDailyTradeArgument'][0]['HDEGE_LONGMARGINRATIO']))\n",
    "    a =my_html['ContractDailyTradeArgument'][0]['HDEGE_LONGMARGINRATIO'];\n",
    "    print(int(a[1:3]))\n",
    "    print(len(my_html))\n",
    "    date_a = []\n",
    " \n",
    "    #路劲不存在是需要新建\n",
    "    sDir = '/home/sean/PycharmProjects/dce_data/shfe_data'\n",
    "    sTitleName = '20180608.csv'\n",
    "    #if not os.path.exists(sDir):\n",
    "\t#    os.mkdir(sDir)\n",
    "    sCSV_Path = os.path.join(sDir,sTitleName);\n",
    "    with open(sCSV_Path, 'wt', newline='', encoding='utf-8') as csvFile: #创建可写文件\n",
    "        writer = csv.writer(csvFile)\n",
    "        writer.writerow(['HDEGE_SHORTMARGINRATIO','HDEGE_LONGMARGINRATIO','HDEGE_LONGMARGINRATIO','INSTRUMENTID',\n",
    "            'LOWER_VALUE','SPEC_LONGMARGINRATIO','SPEC_SHORTMARGINRATIO']) #写入一行 \n",
    "        for i in range(len(my_html['ContractDailyTradeArgument'])):\n",
    "            date_b = []\n",
    "            date_b.append(my_html['ContractDailyTradeArgument'][i]['INSTRUMENTID'])\n",
    "            #print(my_html['ContractDailyTradeArgument'][i]['HDEGE_LONGMARGINRATIO'][1:3])\n",
    "            date_b.append(int(my_html['ContractDailyTradeArgument'][i]['HDEGE_LONGMARGINRATIO'][1:3]))\n",
    "            date_b.append(int(my_html['ContractDailyTradeArgument'][i]['HDEGE_SHORTMARGINRATIO'][1:3]))\n",
    "          \n",
    "            date_b.append(int(my_html['ContractDailyTradeArgument'][i]['LOWER_VALUE'][1:3]))\n",
    "            date_b.append(int(my_html['ContractDailyTradeArgument'][i]['SPEC_LONGMARGINRATIO'][1:3]))\n",
    "            date_b.append(int(my_html['ContractDailyTradeArgument'][i]['SPEC_SHORTMARGINRATIO'][1:3]))\n",
    "            writer.writerow(date_b) #写入一行\n",
    " \n"
   ]
  }
 ],
 "metadata": {
  "kernelspec": {
   "display_name": "Python 2",
   "language": "python",
   "name": "python2"
  },
  "language_info": {
   "codemirror_mode": {
    "name": "ipython",
    "version": 2
   },
   "file_extension": ".py",
   "mimetype": "text/x-python",
   "name": "python",
   "nbconvert_exporter": "python",
   "pygments_lexer": "ipython2",
   "version": "2.7.14"
  }
 },
 "nbformat": 4,
 "nbformat_minor": 2
}
